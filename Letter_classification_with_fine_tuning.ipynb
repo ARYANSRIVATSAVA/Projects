{
  "nbformat": 4,
  "nbformat_minor": 0,
  "metadata": {
    "colab": {
      "provenance": [],
      "authorship_tag": "ABX9TyNJAVgLlnx5bn9XC16AThaT",
      "include_colab_link": true
    },
    "kernelspec": {
      "name": "python3",
      "display_name": "Python 3"
    },
    "language_info": {
      "name": "python"
    }
  },
  "cells": [
    {
      "cell_type": "markdown",
      "metadata": {
        "id": "view-in-github",
        "colab_type": "text"
      },
      "source": [
        "<a href=\"https://colab.research.google.com/github/ARYANSRIVATSAVA/Projects/blob/main/Letter_classification_with_fine_tuning.ipynb\" target=\"_parent\"><img src=\"https://colab.research.google.com/assets/colab-badge.svg\" alt=\"Open In Colab\"/></a>"
      ]
    },
    {
      "cell_type": "code",
      "execution_count": 80,
      "metadata": {
        "id": "uiJJQb81hp2M"
      },
      "outputs": [],
      "source": [
        "import pandas as pd"
      ]
    },
    {
      "cell_type": "code",
      "source": [
        "data=pd.read_csv('/content/train (1).csv',sep=\",\")\n",
        "test_data = pd.read_csv('/content/test (1).csv',sep=\",\")"
      ],
      "metadata": {
        "id": "HyHEaHmuh61W"
      },
      "execution_count": 81,
      "outputs": []
    },
    {
      "cell_type": "code",
      "source": [
        "data.head(10)\n",
        "test_data.head(5)"
      ],
      "metadata": {
        "colab": {
          "base_uri": "https://localhost:8080/",
          "height": 206
        },
        "id": "ioXE58DaiDyb",
        "outputId": "6ab42101-ded9-46f5-b76f-c5341bcb446e"
      },
      "execution_count": 82,
      "outputs": [
        {
          "output_type": "execute_result",
          "data": {
            "text/plain": [
              "   U  4  10  6  7   9  9.1  6.1  4.1  3  6.2  7.1  7.2  9.2  8  5  6.3\n",
              "0  N  6   9  8  4   3    8    7    3  4   13    5    8    6  8  0    8\n",
              "1  V  6   9  8  8  10    7    7    5  4    7    6    8    7  9  7   10\n",
              "2  I  5   6  6  4   3    7    6    2  7    7    6    9    0  9  4    8\n",
              "3  N  5   9  7  6   4    9    7    3  5   10    4    6    5  8  1    7\n",
              "4  H  5   8  8  6   6    5    8    3  6   10    8    8    4  8  4    6"
            ],
            "text/html": [
              "\n",
              "  <div id=\"df-95ee8022-c429-4652-9e91-6f6137272231\">\n",
              "    <div class=\"colab-df-container\">\n",
              "      <div>\n",
              "<style scoped>\n",
              "    .dataframe tbody tr th:only-of-type {\n",
              "        vertical-align: middle;\n",
              "    }\n",
              "\n",
              "    .dataframe tbody tr th {\n",
              "        vertical-align: top;\n",
              "    }\n",
              "\n",
              "    .dataframe thead th {\n",
              "        text-align: right;\n",
              "    }\n",
              "</style>\n",
              "<table border=\"1\" class=\"dataframe\">\n",
              "  <thead>\n",
              "    <tr style=\"text-align: right;\">\n",
              "      <th></th>\n",
              "      <th>U</th>\n",
              "      <th>4</th>\n",
              "      <th>10</th>\n",
              "      <th>6</th>\n",
              "      <th>7</th>\n",
              "      <th>9</th>\n",
              "      <th>9.1</th>\n",
              "      <th>6.1</th>\n",
              "      <th>4.1</th>\n",
              "      <th>3</th>\n",
              "      <th>6.2</th>\n",
              "      <th>7.1</th>\n",
              "      <th>7.2</th>\n",
              "      <th>9.2</th>\n",
              "      <th>8</th>\n",
              "      <th>5</th>\n",
              "      <th>6.3</th>\n",
              "    </tr>\n",
              "  </thead>\n",
              "  <tbody>\n",
              "    <tr>\n",
              "      <th>0</th>\n",
              "      <td>N</td>\n",
              "      <td>6</td>\n",
              "      <td>9</td>\n",
              "      <td>8</td>\n",
              "      <td>4</td>\n",
              "      <td>3</td>\n",
              "      <td>8</td>\n",
              "      <td>7</td>\n",
              "      <td>3</td>\n",
              "      <td>4</td>\n",
              "      <td>13</td>\n",
              "      <td>5</td>\n",
              "      <td>8</td>\n",
              "      <td>6</td>\n",
              "      <td>8</td>\n",
              "      <td>0</td>\n",
              "      <td>8</td>\n",
              "    </tr>\n",
              "    <tr>\n",
              "      <th>1</th>\n",
              "      <td>V</td>\n",
              "      <td>6</td>\n",
              "      <td>9</td>\n",
              "      <td>8</td>\n",
              "      <td>8</td>\n",
              "      <td>10</td>\n",
              "      <td>7</td>\n",
              "      <td>7</td>\n",
              "      <td>5</td>\n",
              "      <td>4</td>\n",
              "      <td>7</td>\n",
              "      <td>6</td>\n",
              "      <td>8</td>\n",
              "      <td>7</td>\n",
              "      <td>9</td>\n",
              "      <td>7</td>\n",
              "      <td>10</td>\n",
              "    </tr>\n",
              "    <tr>\n",
              "      <th>2</th>\n",
              "      <td>I</td>\n",
              "      <td>5</td>\n",
              "      <td>6</td>\n",
              "      <td>6</td>\n",
              "      <td>4</td>\n",
              "      <td>3</td>\n",
              "      <td>7</td>\n",
              "      <td>6</td>\n",
              "      <td>2</td>\n",
              "      <td>7</td>\n",
              "      <td>7</td>\n",
              "      <td>6</td>\n",
              "      <td>9</td>\n",
              "      <td>0</td>\n",
              "      <td>9</td>\n",
              "      <td>4</td>\n",
              "      <td>8</td>\n",
              "    </tr>\n",
              "    <tr>\n",
              "      <th>3</th>\n",
              "      <td>N</td>\n",
              "      <td>5</td>\n",
              "      <td>9</td>\n",
              "      <td>7</td>\n",
              "      <td>6</td>\n",
              "      <td>4</td>\n",
              "      <td>9</td>\n",
              "      <td>7</td>\n",
              "      <td>3</td>\n",
              "      <td>5</td>\n",
              "      <td>10</td>\n",
              "      <td>4</td>\n",
              "      <td>6</td>\n",
              "      <td>5</td>\n",
              "      <td>8</td>\n",
              "      <td>1</td>\n",
              "      <td>7</td>\n",
              "    </tr>\n",
              "    <tr>\n",
              "      <th>4</th>\n",
              "      <td>H</td>\n",
              "      <td>5</td>\n",
              "      <td>8</td>\n",
              "      <td>8</td>\n",
              "      <td>6</td>\n",
              "      <td>6</td>\n",
              "      <td>5</td>\n",
              "      <td>8</td>\n",
              "      <td>3</td>\n",
              "      <td>6</td>\n",
              "      <td>10</td>\n",
              "      <td>8</td>\n",
              "      <td>8</td>\n",
              "      <td>4</td>\n",
              "      <td>8</td>\n",
              "      <td>4</td>\n",
              "      <td>6</td>\n",
              "    </tr>\n",
              "  </tbody>\n",
              "</table>\n",
              "</div>\n",
              "      <button class=\"colab-df-convert\" onclick=\"convertToInteractive('df-95ee8022-c429-4652-9e91-6f6137272231')\"\n",
              "              title=\"Convert this dataframe to an interactive table.\"\n",
              "              style=\"display:none;\">\n",
              "        \n",
              "  <svg xmlns=\"http://www.w3.org/2000/svg\" height=\"24px\"viewBox=\"0 0 24 24\"\n",
              "       width=\"24px\">\n",
              "    <path d=\"M0 0h24v24H0V0z\" fill=\"none\"/>\n",
              "    <path d=\"M18.56 5.44l.94 2.06.94-2.06 2.06-.94-2.06-.94-.94-2.06-.94 2.06-2.06.94zm-11 1L8.5 8.5l.94-2.06 2.06-.94-2.06-.94L8.5 2.5l-.94 2.06-2.06.94zm10 10l.94 2.06.94-2.06 2.06-.94-2.06-.94-.94-2.06-.94 2.06-2.06.94z\"/><path d=\"M17.41 7.96l-1.37-1.37c-.4-.4-.92-.59-1.43-.59-.52 0-1.04.2-1.43.59L10.3 9.45l-7.72 7.72c-.78.78-.78 2.05 0 2.83L4 21.41c.39.39.9.59 1.41.59.51 0 1.02-.2 1.41-.59l7.78-7.78 2.81-2.81c.8-.78.8-2.07 0-2.86zM5.41 20L4 18.59l7.72-7.72 1.47 1.35L5.41 20z\"/>\n",
              "  </svg>\n",
              "      </button>\n",
              "      \n",
              "  <style>\n",
              "    .colab-df-container {\n",
              "      display:flex;\n",
              "      flex-wrap:wrap;\n",
              "      gap: 12px;\n",
              "    }\n",
              "\n",
              "    .colab-df-convert {\n",
              "      background-color: #E8F0FE;\n",
              "      border: none;\n",
              "      border-radius: 50%;\n",
              "      cursor: pointer;\n",
              "      display: none;\n",
              "      fill: #1967D2;\n",
              "      height: 32px;\n",
              "      padding: 0 0 0 0;\n",
              "      width: 32px;\n",
              "    }\n",
              "\n",
              "    .colab-df-convert:hover {\n",
              "      background-color: #E2EBFA;\n",
              "      box-shadow: 0px 1px 2px rgba(60, 64, 67, 0.3), 0px 1px 3px 1px rgba(60, 64, 67, 0.15);\n",
              "      fill: #174EA6;\n",
              "    }\n",
              "\n",
              "    [theme=dark] .colab-df-convert {\n",
              "      background-color: #3B4455;\n",
              "      fill: #D2E3FC;\n",
              "    }\n",
              "\n",
              "    [theme=dark] .colab-df-convert:hover {\n",
              "      background-color: #434B5C;\n",
              "      box-shadow: 0px 1px 3px 1px rgba(0, 0, 0, 0.15);\n",
              "      filter: drop-shadow(0px 1px 2px rgba(0, 0, 0, 0.3));\n",
              "      fill: #FFFFFF;\n",
              "    }\n",
              "  </style>\n",
              "\n",
              "      <script>\n",
              "        const buttonEl =\n",
              "          document.querySelector('#df-95ee8022-c429-4652-9e91-6f6137272231 button.colab-df-convert');\n",
              "        buttonEl.style.display =\n",
              "          google.colab.kernel.accessAllowed ? 'block' : 'none';\n",
              "\n",
              "        async function convertToInteractive(key) {\n",
              "          const element = document.querySelector('#df-95ee8022-c429-4652-9e91-6f6137272231');\n",
              "          const dataTable =\n",
              "            await google.colab.kernel.invokeFunction('convertToInteractive',\n",
              "                                                     [key], {});\n",
              "          if (!dataTable) return;\n",
              "\n",
              "          const docLinkHtml = 'Like what you see? Visit the ' +\n",
              "            '<a target=\"_blank\" href=https://colab.research.google.com/notebooks/data_table.ipynb>data table notebook</a>'\n",
              "            + ' to learn more about interactive tables.';\n",
              "          element.innerHTML = '';\n",
              "          dataTable['output_type'] = 'display_data';\n",
              "          await google.colab.output.renderOutput(dataTable, element);\n",
              "          const docLink = document.createElement('div');\n",
              "          docLink.innerHTML = docLinkHtml;\n",
              "          element.appendChild(docLink);\n",
              "        }\n",
              "      </script>\n",
              "    </div>\n",
              "  </div>\n",
              "  "
            ]
          },
          "metadata": {},
          "execution_count": 82
        }
      ]
    },
    {
      "cell_type": "code",
      "source": [
        "data.info()"
      ],
      "metadata": {
        "colab": {
          "base_uri": "https://localhost:8080/"
        },
        "id": "u36EzGo5AmGh",
        "outputId": "f8b2d86d-bc12-4672-8cb3-84daec02cb78"
      },
      "execution_count": 83,
      "outputs": [
        {
          "output_type": "stream",
          "name": "stdout",
          "text": [
            "<class 'pandas.core.frame.DataFrame'>\n",
            "RangeIndex: 15999 entries, 0 to 15998\n",
            "Data columns (total 17 columns):\n",
            " #   Column  Non-Null Count  Dtype \n",
            "---  ------  --------------  ----- \n",
            " 0   T       15999 non-null  object\n",
            " 1   2       15999 non-null  int64 \n",
            " 2   8       15999 non-null  int64 \n",
            " 3   3       15999 non-null  int64 \n",
            " 4   5       15999 non-null  int64 \n",
            " 5   1       15999 non-null  int64 \n",
            " 6   8.1     15999 non-null  int64 \n",
            " 7   13      15999 non-null  int64 \n",
            " 8   0       15999 non-null  int64 \n",
            " 9   6       15999 non-null  int64 \n",
            " 10  6.1     15999 non-null  int64 \n",
            " 11  10      15999 non-null  int64 \n",
            " 12  8.2     15999 non-null  int64 \n",
            " 13  0.1     15999 non-null  int64 \n",
            " 14  8.3     15999 non-null  int64 \n",
            " 15  0.2     15999 non-null  int64 \n",
            " 16  8.4     15999 non-null  int64 \n",
            "dtypes: int64(16), object(1)\n",
            "memory usage: 2.1+ MB\n"
          ]
        }
      ]
    },
    {
      "cell_type": "code",
      "source": [
        "data.describe()"
      ],
      "metadata": {
        "colab": {
          "base_uri": "https://localhost:8080/",
          "height": 364
        },
        "id": "qK359SJ9AoF1",
        "outputId": "07785b44-dc01-4948-dde7-a74d3dafedcf"
      },
      "execution_count": 84,
      "outputs": [
        {
          "output_type": "execute_result",
          "data": {
            "text/plain": [
              "                  2             8             3             5             1  \\\n",
              "count  15999.000000  15999.000000  15999.000000  15999.000000  15999.000000   \n",
              "mean       4.020314      7.028877      5.117445      5.365898      3.500281   \n",
              "std        1.908496      3.304017      2.003253      2.262690      2.192250   \n",
              "min        0.000000      0.000000      0.000000      0.000000      0.000000   \n",
              "25%        3.000000      5.000000      4.000000      4.000000      2.000000   \n",
              "50%        4.000000      7.000000      5.000000      6.000000      3.000000   \n",
              "75%        5.000000      9.000000      6.000000      7.000000      5.000000   \n",
              "max       15.000000     15.000000     15.000000     15.000000     15.000000   \n",
              "\n",
              "                8.1            13             0             6           6.1  \\\n",
              "count  15999.000000  15999.000000  15999.000000  15999.000000  15999.000000   \n",
              "mean       6.892556      7.512095      4.627602      5.170323      8.286768   \n",
              "std        2.029571      2.333537      2.711411      2.384930      2.485718   \n",
              "min        0.000000      0.000000      0.000000      0.000000      0.000000   \n",
              "25%        6.000000      6.000000      3.000000      4.000000      7.000000   \n",
              "50%        7.000000      7.000000      4.000000      5.000000      8.000000   \n",
              "75%        8.000000      9.000000      6.000000      7.000000     10.000000   \n",
              "max       15.000000     15.000000     15.000000     15.000000     15.000000   \n",
              "\n",
              "                 10          8.2           0.1           8.3           0.2  \\\n",
              "count  15999.000000  15999.00000  15999.000000  15999.000000  15999.000000   \n",
              "mean       6.471029      7.92712      3.048941      8.343959      3.682230   \n",
              "std        2.641996      2.07204      2.342430      1.550101      2.571304   \n",
              "min        0.000000      0.00000      0.000000      0.000000      0.000000   \n",
              "25%        5.000000      7.00000      1.000000      8.000000      2.000000   \n",
              "50%        6.000000      8.00000      3.000000      8.000000      3.000000   \n",
              "75%        8.000000      9.00000      4.000000      9.000000      5.000000   \n",
              "max       15.000000     15.00000     15.000000     15.000000     15.000000   \n",
              "\n",
              "                8.4  \n",
              "count  15999.000000  \n",
              "mean       7.796237  \n",
              "std        1.603451  \n",
              "min        1.000000  \n",
              "25%        7.000000  \n",
              "50%        8.000000  \n",
              "75%        8.000000  \n",
              "max       15.000000  "
            ],
            "text/html": [
              "\n",
              "  <div id=\"df-1e5ced48-e61a-40d6-8471-670317c7ee71\">\n",
              "    <div class=\"colab-df-container\">\n",
              "      <div>\n",
              "<style scoped>\n",
              "    .dataframe tbody tr th:only-of-type {\n",
              "        vertical-align: middle;\n",
              "    }\n",
              "\n",
              "    .dataframe tbody tr th {\n",
              "        vertical-align: top;\n",
              "    }\n",
              "\n",
              "    .dataframe thead th {\n",
              "        text-align: right;\n",
              "    }\n",
              "</style>\n",
              "<table border=\"1\" class=\"dataframe\">\n",
              "  <thead>\n",
              "    <tr style=\"text-align: right;\">\n",
              "      <th></th>\n",
              "      <th>2</th>\n",
              "      <th>8</th>\n",
              "      <th>3</th>\n",
              "      <th>5</th>\n",
              "      <th>1</th>\n",
              "      <th>8.1</th>\n",
              "      <th>13</th>\n",
              "      <th>0</th>\n",
              "      <th>6</th>\n",
              "      <th>6.1</th>\n",
              "      <th>10</th>\n",
              "      <th>8.2</th>\n",
              "      <th>0.1</th>\n",
              "      <th>8.3</th>\n",
              "      <th>0.2</th>\n",
              "      <th>8.4</th>\n",
              "    </tr>\n",
              "  </thead>\n",
              "  <tbody>\n",
              "    <tr>\n",
              "      <th>count</th>\n",
              "      <td>15999.000000</td>\n",
              "      <td>15999.000000</td>\n",
              "      <td>15999.000000</td>\n",
              "      <td>15999.000000</td>\n",
              "      <td>15999.000000</td>\n",
              "      <td>15999.000000</td>\n",
              "      <td>15999.000000</td>\n",
              "      <td>15999.000000</td>\n",
              "      <td>15999.000000</td>\n",
              "      <td>15999.000000</td>\n",
              "      <td>15999.000000</td>\n",
              "      <td>15999.00000</td>\n",
              "      <td>15999.000000</td>\n",
              "      <td>15999.000000</td>\n",
              "      <td>15999.000000</td>\n",
              "      <td>15999.000000</td>\n",
              "    </tr>\n",
              "    <tr>\n",
              "      <th>mean</th>\n",
              "      <td>4.020314</td>\n",
              "      <td>7.028877</td>\n",
              "      <td>5.117445</td>\n",
              "      <td>5.365898</td>\n",
              "      <td>3.500281</td>\n",
              "      <td>6.892556</td>\n",
              "      <td>7.512095</td>\n",
              "      <td>4.627602</td>\n",
              "      <td>5.170323</td>\n",
              "      <td>8.286768</td>\n",
              "      <td>6.471029</td>\n",
              "      <td>7.92712</td>\n",
              "      <td>3.048941</td>\n",
              "      <td>8.343959</td>\n",
              "      <td>3.682230</td>\n",
              "      <td>7.796237</td>\n",
              "    </tr>\n",
              "    <tr>\n",
              "      <th>std</th>\n",
              "      <td>1.908496</td>\n",
              "      <td>3.304017</td>\n",
              "      <td>2.003253</td>\n",
              "      <td>2.262690</td>\n",
              "      <td>2.192250</td>\n",
              "      <td>2.029571</td>\n",
              "      <td>2.333537</td>\n",
              "      <td>2.711411</td>\n",
              "      <td>2.384930</td>\n",
              "      <td>2.485718</td>\n",
              "      <td>2.641996</td>\n",
              "      <td>2.07204</td>\n",
              "      <td>2.342430</td>\n",
              "      <td>1.550101</td>\n",
              "      <td>2.571304</td>\n",
              "      <td>1.603451</td>\n",
              "    </tr>\n",
              "    <tr>\n",
              "      <th>min</th>\n",
              "      <td>0.000000</td>\n",
              "      <td>0.000000</td>\n",
              "      <td>0.000000</td>\n",
              "      <td>0.000000</td>\n",
              "      <td>0.000000</td>\n",
              "      <td>0.000000</td>\n",
              "      <td>0.000000</td>\n",
              "      <td>0.000000</td>\n",
              "      <td>0.000000</td>\n",
              "      <td>0.000000</td>\n",
              "      <td>0.000000</td>\n",
              "      <td>0.00000</td>\n",
              "      <td>0.000000</td>\n",
              "      <td>0.000000</td>\n",
              "      <td>0.000000</td>\n",
              "      <td>1.000000</td>\n",
              "    </tr>\n",
              "    <tr>\n",
              "      <th>25%</th>\n",
              "      <td>3.000000</td>\n",
              "      <td>5.000000</td>\n",
              "      <td>4.000000</td>\n",
              "      <td>4.000000</td>\n",
              "      <td>2.000000</td>\n",
              "      <td>6.000000</td>\n",
              "      <td>6.000000</td>\n",
              "      <td>3.000000</td>\n",
              "      <td>4.000000</td>\n",
              "      <td>7.000000</td>\n",
              "      <td>5.000000</td>\n",
              "      <td>7.00000</td>\n",
              "      <td>1.000000</td>\n",
              "      <td>8.000000</td>\n",
              "      <td>2.000000</td>\n",
              "      <td>7.000000</td>\n",
              "    </tr>\n",
              "    <tr>\n",
              "      <th>50%</th>\n",
              "      <td>4.000000</td>\n",
              "      <td>7.000000</td>\n",
              "      <td>5.000000</td>\n",
              "      <td>6.000000</td>\n",
              "      <td>3.000000</td>\n",
              "      <td>7.000000</td>\n",
              "      <td>7.000000</td>\n",
              "      <td>4.000000</td>\n",
              "      <td>5.000000</td>\n",
              "      <td>8.000000</td>\n",
              "      <td>6.000000</td>\n",
              "      <td>8.00000</td>\n",
              "      <td>3.000000</td>\n",
              "      <td>8.000000</td>\n",
              "      <td>3.000000</td>\n",
              "      <td>8.000000</td>\n",
              "    </tr>\n",
              "    <tr>\n",
              "      <th>75%</th>\n",
              "      <td>5.000000</td>\n",
              "      <td>9.000000</td>\n",
              "      <td>6.000000</td>\n",
              "      <td>7.000000</td>\n",
              "      <td>5.000000</td>\n",
              "      <td>8.000000</td>\n",
              "      <td>9.000000</td>\n",
              "      <td>6.000000</td>\n",
              "      <td>7.000000</td>\n",
              "      <td>10.000000</td>\n",
              "      <td>8.000000</td>\n",
              "      <td>9.00000</td>\n",
              "      <td>4.000000</td>\n",
              "      <td>9.000000</td>\n",
              "      <td>5.000000</td>\n",
              "      <td>8.000000</td>\n",
              "    </tr>\n",
              "    <tr>\n",
              "      <th>max</th>\n",
              "      <td>15.000000</td>\n",
              "      <td>15.000000</td>\n",
              "      <td>15.000000</td>\n",
              "      <td>15.000000</td>\n",
              "      <td>15.000000</td>\n",
              "      <td>15.000000</td>\n",
              "      <td>15.000000</td>\n",
              "      <td>15.000000</td>\n",
              "      <td>15.000000</td>\n",
              "      <td>15.000000</td>\n",
              "      <td>15.000000</td>\n",
              "      <td>15.00000</td>\n",
              "      <td>15.000000</td>\n",
              "      <td>15.000000</td>\n",
              "      <td>15.000000</td>\n",
              "      <td>15.000000</td>\n",
              "    </tr>\n",
              "  </tbody>\n",
              "</table>\n",
              "</div>\n",
              "      <button class=\"colab-df-convert\" onclick=\"convertToInteractive('df-1e5ced48-e61a-40d6-8471-670317c7ee71')\"\n",
              "              title=\"Convert this dataframe to an interactive table.\"\n",
              "              style=\"display:none;\">\n",
              "        \n",
              "  <svg xmlns=\"http://www.w3.org/2000/svg\" height=\"24px\"viewBox=\"0 0 24 24\"\n",
              "       width=\"24px\">\n",
              "    <path d=\"M0 0h24v24H0V0z\" fill=\"none\"/>\n",
              "    <path d=\"M18.56 5.44l.94 2.06.94-2.06 2.06-.94-2.06-.94-.94-2.06-.94 2.06-2.06.94zm-11 1L8.5 8.5l.94-2.06 2.06-.94-2.06-.94L8.5 2.5l-.94 2.06-2.06.94zm10 10l.94 2.06.94-2.06 2.06-.94-2.06-.94-.94-2.06-.94 2.06-2.06.94z\"/><path d=\"M17.41 7.96l-1.37-1.37c-.4-.4-.92-.59-1.43-.59-.52 0-1.04.2-1.43.59L10.3 9.45l-7.72 7.72c-.78.78-.78 2.05 0 2.83L4 21.41c.39.39.9.59 1.41.59.51 0 1.02-.2 1.41-.59l7.78-7.78 2.81-2.81c.8-.78.8-2.07 0-2.86zM5.41 20L4 18.59l7.72-7.72 1.47 1.35L5.41 20z\"/>\n",
              "  </svg>\n",
              "      </button>\n",
              "      \n",
              "  <style>\n",
              "    .colab-df-container {\n",
              "      display:flex;\n",
              "      flex-wrap:wrap;\n",
              "      gap: 12px;\n",
              "    }\n",
              "\n",
              "    .colab-df-convert {\n",
              "      background-color: #E8F0FE;\n",
              "      border: none;\n",
              "      border-radius: 50%;\n",
              "      cursor: pointer;\n",
              "      display: none;\n",
              "      fill: #1967D2;\n",
              "      height: 32px;\n",
              "      padding: 0 0 0 0;\n",
              "      width: 32px;\n",
              "    }\n",
              "\n",
              "    .colab-df-convert:hover {\n",
              "      background-color: #E2EBFA;\n",
              "      box-shadow: 0px 1px 2px rgba(60, 64, 67, 0.3), 0px 1px 3px 1px rgba(60, 64, 67, 0.15);\n",
              "      fill: #174EA6;\n",
              "    }\n",
              "\n",
              "    [theme=dark] .colab-df-convert {\n",
              "      background-color: #3B4455;\n",
              "      fill: #D2E3FC;\n",
              "    }\n",
              "\n",
              "    [theme=dark] .colab-df-convert:hover {\n",
              "      background-color: #434B5C;\n",
              "      box-shadow: 0px 1px 3px 1px rgba(0, 0, 0, 0.15);\n",
              "      filter: drop-shadow(0px 1px 2px rgba(0, 0, 0, 0.3));\n",
              "      fill: #FFFFFF;\n",
              "    }\n",
              "  </style>\n",
              "\n",
              "      <script>\n",
              "        const buttonEl =\n",
              "          document.querySelector('#df-1e5ced48-e61a-40d6-8471-670317c7ee71 button.colab-df-convert');\n",
              "        buttonEl.style.display =\n",
              "          google.colab.kernel.accessAllowed ? 'block' : 'none';\n",
              "\n",
              "        async function convertToInteractive(key) {\n",
              "          const element = document.querySelector('#df-1e5ced48-e61a-40d6-8471-670317c7ee71');\n",
              "          const dataTable =\n",
              "            await google.colab.kernel.invokeFunction('convertToInteractive',\n",
              "                                                     [key], {});\n",
              "          if (!dataTable) return;\n",
              "\n",
              "          const docLinkHtml = 'Like what you see? Visit the ' +\n",
              "            '<a target=\"_blank\" href=https://colab.research.google.com/notebooks/data_table.ipynb>data table notebook</a>'\n",
              "            + ' to learn more about interactive tables.';\n",
              "          element.innerHTML = '';\n",
              "          dataTable['output_type'] = 'display_data';\n",
              "          await google.colab.output.renderOutput(dataTable, element);\n",
              "          const docLink = document.createElement('div');\n",
              "          docLink.innerHTML = docLinkHtml;\n",
              "          element.appendChild(docLink);\n",
              "        }\n",
              "      </script>\n",
              "    </div>\n",
              "  </div>\n",
              "  "
            ]
          },
          "metadata": {},
          "execution_count": 84
        }
      ]
    },
    {
      "cell_type": "code",
      "source": [
        "data.isnull().sum()"
      ],
      "metadata": {
        "colab": {
          "base_uri": "https://localhost:8080/"
        },
        "id": "EweLUvPmA2ol",
        "outputId": "045aec81-ecfd-4541-9e5d-2e3089339ce9"
      },
      "execution_count": 85,
      "outputs": [
        {
          "output_type": "execute_result",
          "data": {
            "text/plain": [
              "T      0\n",
              "2      0\n",
              "8      0\n",
              "3      0\n",
              "5      0\n",
              "1      0\n",
              "8.1    0\n",
              "13     0\n",
              "0      0\n",
              "6      0\n",
              "6.1    0\n",
              "10     0\n",
              "8.2    0\n",
              "0.1    0\n",
              "8.3    0\n",
              "0.2    0\n",
              "8.4    0\n",
              "dtype: int64"
            ]
          },
          "metadata": {},
          "execution_count": 85
        }
      ]
    },
    {
      "cell_type": "code",
      "source": [
        "data['T'].value_counts()"
      ],
      "metadata": {
        "colab": {
          "base_uri": "https://localhost:8080/"
        },
        "id": "0PckZZKPA6Ad",
        "outputId": "e625d294-ed63-4ea7-bc50-0d0ea34df858"
      },
      "execution_count": 86,
      "outputs": [
        {
          "output_type": "execute_result",
          "data": {
            "text/plain": [
              "M    648\n",
              "U    645\n",
              "T    644\n",
              "Y    641\n",
              "D    638\n",
              "P    635\n",
              "A    633\n",
              "B    630\n",
              "V    628\n",
              "X    628\n",
              "F    622\n",
              "N    617\n",
              "E    616\n",
              "Q    615\n",
              "O    614\n",
              "W    613\n",
              "G    609\n",
              "L    604\n",
              "J    599\n",
              "R    597\n",
              "C    594\n",
              "K    593\n",
              "I    590\n",
              "S    587\n",
              "H    583\n",
              "Z    576\n",
              "Name: T, dtype: int64"
            ]
          },
          "metadata": {},
          "execution_count": 86
        }
      ]
    },
    {
      "cell_type": "code",
      "source": [
        "import matplotlib.pyplot as plt\n",
        "import seaborn as sns\n",
        "sns.countplot(y = data['T'] ,data = data)\n",
        "plt.xlabel(\"Count of each Target class\")\n",
        "plt.ylabel(\"Target classes\")\n",
        "plt.show()"
      ],
      "metadata": {
        "colab": {
          "base_uri": "https://localhost:8080/",
          "height": 279
        },
        "id": "wxy2L7wAGQsp",
        "outputId": "cbccfb58-b47a-49a1-d371-840850ef4444"
      },
      "execution_count": 87,
      "outputs": [
        {
          "output_type": "display_data",
          "data": {
            "text/plain": [
              "<Figure size 432x288 with 1 Axes>"
            ],
            "image/png": "[encoded data removed]"
          },
          "metadata": {
            "needs_background": "light"
          }
        }
      ]
    },
    {
      "cell_type": "code",
      "source": [
        "import numpy as np\n",
        "np.var(data)"
      ],
      "metadata": {
        "colab": {
          "base_uri": "https://localhost:8080/"
        },
        "id": "I06l2OvIBKfr",
        "outputId": "c35edfdc-323f-4b3c-c008-47df29d34ce0"
      },
      "execution_count": 88,
      "outputs": [
        {
          "output_type": "stream",
          "name": "stderr",
          "text": [
            "/usr/local/lib/python3.8/dist-packages/numpy/core/fromnumeric.py:3721: FutureWarning: Dropping of nuisance columns in DataFrame reductions (with 'numeric_only=None') is deprecated; in a future version this will raise TypeError.  Select only valid columns before calling the reduction.\n",
            "  return var(axis=axis, dtype=dtype, out=out, ddof=ddof, **kwargs)\n"
          ]
        },
        {
          "output_type": "execute_result",
          "data": {
            "text/plain": [
              "2       3.642128\n",
              "8      10.915848\n",
              "3       4.012771\n",
              "5       5.119447\n",
              "1       4.805660\n",
              "8.1     4.118901\n",
              "13      5.445053\n",
              "0       7.351288\n",
              "6       5.687535\n",
              "6.1     6.178405\n",
              "10      6.979706\n",
              "8.2     4.293082\n",
              "0.1     5.486635\n",
              "8.3     2.402662\n",
              "0.2     6.611192\n",
              "8.4     2.570894\n",
              "dtype: float64"
            ]
          },
          "metadata": {},
          "execution_count": 88
        }
      ]
    },
    {
      "cell_type": "code",
      "source": [
        "train_data = data.drop(columns=['T'])\n",
        "train_data.hist(figsize=(15,12),bins = 15)\n",
        "plt.title(\"Features Distribution\")\n",
        "plt.show()"
      ],
      "metadata": {
        "colab": {
          "base_uri": "https://localhost:8080/",
          "height": 716
        },
        "id": "sGlTw0mICvrS",
        "outputId": "3b56e6e7-57c3-4dea-f37e-da37cc836ccb"
      },
      "execution_count": 89,
      "outputs": [
        {
          "output_type": "display_data",
          "data": {
            "text/plain": [
              "<Figure size 1080x864 with 16 Axes>"
            ],
            "image/png": "[encoded data removed]"
          },
          "metadata": {
            "needs_background": "light"
          }
        }
      ]
    },
    {
      "cell_type": "code",
      "source": [
        "from sklearn.preprocessing import FunctionTransformer\n",
        "from sklearn.compose import ColumnTransformer\n",
        "def logTrans(column):   # function to apply transformer and check the distribution with histogram and kdeplot\n",
        "    \n",
        "    logTr = ColumnTransformer(transformers=[(\"lg\", FunctionTransformer(np.log1p), [column])])\n",
        "\n",
        "    plt.figure(figsize=(15,6))\n",
        "    plt.subplot(1,2,1)\n",
        "    plt.title(\"Distribution before Transformation\", fontsize=15)\n",
        "    sns.histplot(train_data[column], kde=True, color=\"red\")\n",
        "    plt.subplot(1,2,2)\n",
        "    \n",
        "    train_data[column] = pd.DataFrame(logTr.fit_transform(train_data))\n",
        "    plt.title(\"Distribution after Transformation\", fontsize=15)\n",
        "    sns.histplot(train_data[column],bins=20, kde=True , legend=False)\n",
        "    plt.xlabel(column)\n",
        "    plt.show()\n",
        "    \n",
        "    #print(f\"Skewness was {round(old_skew[column],2)} before & is {round(df_log.skew()[0],2)} after Log transformation.\")\n",
        "    \n",
        "logTrans(column=\"0.1\")\n",
        "logTrans(column=\"1\")\n",
        "logTrans(column=\"0.2\")\n",
        "logTrans(column=\"0\")\n",
        "logTrans(column=\"2\")"
      ],
      "metadata": {
        "colab": {
          "base_uri": "https://localhost:8080/",
          "height": 1000
        },
        "id": "YIPvIfScK4kF",
        "outputId": "2cb526fb-ea6a-4b2f-de53-5e4f2dec6217"
      },
      "execution_count": 90,
      "outputs": [
        {
          "output_type": "display_data",
          "data": {
            "text/plain": [
              "<Figure size 1080x432 with 2 Axes>"
            ],
            "image/png": "[encoded data removed]"
          },
          "metadata": {
            "needs_background": "light"
          }
        },
        {
          "output_type": "display_data",
          "data": {
            "text/plain": [
              "<Figure size 1080x432 with 2 Axes>"
            ],
            "image/png": "[encoded data removed]"
          },
          "metadata": {
            "needs_background": "light"
          }
        },
        {
          "output_type": "display_data",
          "data": {
            "text/plain": [
              "<Figure size 1080x432 with 2 Axes>"
            ],
            "image/png": "[encoded data removed]"
          },
          "metadata": {
            "needs_background": "light"
          }
        },
        {
          "output_type": "display_data",
          "data": {
            "text/plain": [
              "<Figure size 1080x432 with 2 Axes>"
            ],
            "image/png": "[encoded data removed]"
          },
          "metadata": {
            "needs_background": "light"
          }
        },
        {
          "output_type": "display_data",
          "data": {
            "text/plain": [
              "<Figure size 1080x432 with 2 Axes>"
            ],
            "image/png": "[encoded data removed]"
          },
          "metadata": {
            "needs_background": "light"
          }
        }
      ]
    },
    {
      "cell_type": "code",
      "source": [
        "def normalize(data):\n",
        "    normalized_data = data.copy()\n",
        "    for column in data.columns:\n",
        "        max = data[column].max()\n",
        "        min = data[column].min()\n",
        "        normalized_data[column] = (data[column] - min) / (max - min)\n",
        "    return normalized_data\n"
      ],
      "metadata": {
        "id": "Gz28lvXLBKh_"
      },
      "execution_count": 91,
      "outputs": []
    },
    {
      "cell_type": "code",
      "source": [
        "datan=normalize(train_data)\n",
        "datan"
      ],
      "metadata": {
        "colab": {
          "base_uri": "https://localhost:8080/",
          "height": 424
        },
        "id": "Bk4pbXAmBKkW",
        "outputId": "e259a907-8345-4118-ffff-9aa56469297f"
      },
      "execution_count": 92,
      "outputs": [
        {
          "output_type": "execute_result",
          "data": {
            "text/plain": [
              "              2         8         3         5         1       8.1        13  \\\n",
              "0      0.646241  0.800000  0.200000  0.466667  0.396241  0.666667  0.333333   \n",
              "1      0.580482  0.733333  0.400000  0.533333  0.701839  0.666667  0.400000   \n",
              "2      0.750000  0.733333  0.400000  0.400000  0.500000  0.333333  0.600000   \n",
              "3      0.396241  0.066667  0.200000  0.066667  0.250000  0.533333  0.400000   \n",
              "4      0.580482  0.733333  0.333333  0.533333  0.500000  0.533333  0.533333   \n",
              "...         ...       ...       ...       ...       ...       ...       ...   \n",
              "15994  0.580482  0.600000  0.266667  0.400000  0.250000  0.000000  0.000000   \n",
              "15995  0.580482  0.400000  0.400000  0.266667  0.701839  0.533333  0.400000   \n",
              "15996  0.792481  0.933333  0.466667  0.533333  0.580482  0.533333  0.266667   \n",
              "15997  0.580482  0.466667  0.333333  0.333333  0.500000  0.466667  0.466667   \n",
              "15998  0.396241  0.066667  0.200000  0.133333  0.250000  0.400000  0.533333   \n",
              "\n",
              "              0         6       6.1        10       8.2       0.1       8.3  \\\n",
              "0      0.646241  0.266667  0.866667  0.200000  0.600000  0.396241  0.533333   \n",
              "1      0.396241  0.400000  0.666667  0.200000  0.466667  0.500000  0.466667   \n",
              "2      0.580482  0.400000  0.266667  0.266667  0.666667  0.701839  0.666667   \n",
              "3      0.701839  0.400000  0.400000  0.333333  0.600000  0.250000  0.466667   \n",
              "4      0.701839  0.600000  0.333333  0.400000  0.400000  0.000000  0.533333   \n",
              "...         ...       ...       ...       ...       ...       ...       ...   \n",
              "15994  0.701839  0.400000  0.000000  0.066667  0.333333  0.000000  0.533333   \n",
              "15995  0.750000  0.200000  0.466667  0.333333  0.466667  0.580482  0.466667   \n",
              "15996  0.646241  0.200000  0.533333  0.266667  0.333333  0.580482  0.466667   \n",
              "15997  0.396241  0.600000  0.733333  0.400000  0.600000  0.396241  0.533333   \n",
              "15998  0.750000  0.466667  0.533333  0.533333  0.866667  0.250000  0.600000   \n",
              "\n",
              "            0.2       8.4  \n",
              "0      0.580482  0.642857  \n",
              "1      0.500000  0.571429  \n",
              "2      0.396241  0.500000  \n",
              "3      0.646241  0.642857  \n",
              "4      0.830482  0.428571  \n",
              "...         ...       ...  \n",
              "15994  0.000000  0.500000  \n",
              "15995  0.750000  0.428571  \n",
              "15996  0.646241  0.500000  \n",
              "15997  0.646241  0.500000  \n",
              "15998  0.580482  0.642857  \n",
              "\n",
              "[15999 rows x 16 columns]"
            ],
            "text/html": [
              "\n",
              "  <div id=\"df-fc851bb5-6585-4f5e-b084-bdcd9a6c2f4f\">\n",
              "    <div class=\"colab-df-container\">\n",
              "      <div>\n",
              "<style scoped>\n",
              "    .dataframe tbody tr th:only-of-type {\n",
              "        vertical-align: middle;\n",
              "    }\n",
              "\n",
              "    .dataframe tbody tr th {\n",
              "        vertical-align: top;\n",
              "    }\n",
              "\n",
              "    .dataframe thead th {\n",
              "        text-align: right;\n",
              "    }\n",
              "</style>\n",
              "<table border=\"1\" class=\"dataframe\">\n",
              "  <thead>\n",
              "    <tr style=\"text-align: right;\">\n",
              "      <th></th>\n",
              "      <th>2</th>\n",
              "      <th>8</th>\n",
              "      <th>3</th>\n",
              "      <th>5</th>\n",
              "      <th>1</th>\n",
              "      <th>8.1</th>\n",
              "      <th>13</th>\n",
              "      <th>0</th>\n",
              "      <th>6</th>\n",
              "      <th>6.1</th>\n",
              "      <th>10</th>\n",
              "      <th>8.2</th>\n",
              "      <th>0.1</th>\n",
              "      <th>8.3</th>\n",
              "      <th>0.2</th>\n",
              "      <th>8.4</th>\n",
              "    </tr>\n",
              "  </thead>\n",
              "  <tbody>\n",
              "    <tr>\n",
              "      <th>0</th>\n",
              "      <td>0.646241</td>\n",
              "      <td>0.800000</td>\n",
              "      <td>0.200000</td>\n",
              "      <td>0.466667</td>\n",
              "      <td>0.396241</td>\n",
              "      <td>0.666667</td>\n",
              "      <td>0.333333</td>\n",
              "      <td>0.646241</td>\n",
              "      <td>0.266667</td>\n",
              "      <td>0.866667</td>\n",
              "      <td>0.200000</td>\n",
              "      <td>0.600000</td>\n",
              "      <td>0.396241</td>\n",
              "      <td>0.533333</td>\n",
              "      <td>0.580482</td>\n",
              "      <td>0.642857</td>\n",
              "    </tr>\n",
              "    <tr>\n",
              "      <th>1</th>\n",
              "      <td>0.580482</td>\n",
              "      <td>0.733333</td>\n",
              "      <td>0.400000</td>\n",
              "      <td>0.533333</td>\n",
              "      <td>0.701839</td>\n",
              "      <td>0.666667</td>\n",
              "      <td>0.400000</td>\n",
              "      <td>0.396241</td>\n",
              "      <td>0.400000</td>\n",
              "      <td>0.666667</td>\n",
              "      <td>0.200000</td>\n",
              "      <td>0.466667</td>\n",
              "      <td>0.500000</td>\n",
              "      <td>0.466667</td>\n",
              "      <td>0.500000</td>\n",
              "      <td>0.571429</td>\n",
              "    </tr>\n",
              "    <tr>\n",
              "      <th>2</th>\n",
              "      <td>0.750000</td>\n",
              "      <td>0.733333</td>\n",
              "      <td>0.400000</td>\n",
              "      <td>0.400000</td>\n",
              "      <td>0.500000</td>\n",
              "      <td>0.333333</td>\n",
              "      <td>0.600000</td>\n",
              "      <td>0.580482</td>\n",
              "      <td>0.400000</td>\n",
              "      <td>0.266667</td>\n",
              "      <td>0.266667</td>\n",
              "      <td>0.666667</td>\n",
              "      <td>0.701839</td>\n",
              "      <td>0.666667</td>\n",
              "      <td>0.396241</td>\n",
              "      <td>0.500000</td>\n",
              "    </tr>\n",
              "    <tr>\n",
              "      <th>3</th>\n",
              "      <td>0.396241</td>\n",
              "      <td>0.066667</td>\n",
              "      <td>0.200000</td>\n",
              "      <td>0.066667</td>\n",
              "      <td>0.250000</td>\n",
              "      <td>0.533333</td>\n",
              "      <td>0.400000</td>\n",
              "      <td>0.701839</td>\n",
              "      <td>0.400000</td>\n",
              "      <td>0.400000</td>\n",
              "      <td>0.333333</td>\n",
              "      <td>0.600000</td>\n",
              "      <td>0.250000</td>\n",
              "      <td>0.466667</td>\n",
              "      <td>0.646241</td>\n",
              "      <td>0.642857</td>\n",
              "    </tr>\n",
              "    <tr>\n",
              "      <th>4</th>\n",
              "      <td>0.580482</td>\n",
              "      <td>0.733333</td>\n",
              "      <td>0.333333</td>\n",
              "      <td>0.533333</td>\n",
              "      <td>0.500000</td>\n",
              "      <td>0.533333</td>\n",
              "      <td>0.533333</td>\n",
              "      <td>0.701839</td>\n",
              "      <td>0.600000</td>\n",
              "      <td>0.333333</td>\n",
              "      <td>0.400000</td>\n",
              "      <td>0.400000</td>\n",
              "      <td>0.000000</td>\n",
              "      <td>0.533333</td>\n",
              "      <td>0.830482</td>\n",
              "      <td>0.428571</td>\n",
              "    </tr>\n",
              "    <tr>\n",
              "      <th>...</th>\n",
              "      <td>...</td>\n",
              "      <td>...</td>\n",
              "      <td>...</td>\n",
              "      <td>...</td>\n",
              "      <td>...</td>\n",
              "      <td>...</td>\n",
              "      <td>...</td>\n",
              "      <td>...</td>\n",
              "      <td>...</td>\n",
              "      <td>...</td>\n",
              "      <td>...</td>\n",
              "      <td>...</td>\n",
              "      <td>...</td>\n",
              "      <td>...</td>\n",
              "      <td>...</td>\n",
              "      <td>...</td>\n",
              "    </tr>\n",
              "    <tr>\n",
              "      <th>15994</th>\n",
              "      <td>0.580482</td>\n",
              "      <td>0.600000</td>\n",
              "      <td>0.266667</td>\n",
              "      <td>0.400000</td>\n",
              "      <td>0.250000</td>\n",
              "      <td>0.000000</td>\n",
              "      <td>0.000000</td>\n",
              "      <td>0.701839</td>\n",
              "      <td>0.400000</td>\n",
              "      <td>0.000000</td>\n",
              "      <td>0.066667</td>\n",
              "      <td>0.333333</td>\n",
              "      <td>0.000000</td>\n",
              "      <td>0.533333</td>\n",
              "      <td>0.000000</td>\n",
              "      <td>0.500000</td>\n",
              "    </tr>\n",
              "    <tr>\n",
              "      <th>15995</th>\n",
              "      <td>0.580482</td>\n",
              "      <td>0.400000</td>\n",
              "      <td>0.400000</td>\n",
              "      <td>0.266667</td>\n",
              "      <td>0.701839</td>\n",
              "      <td>0.533333</td>\n",
              "      <td>0.400000</td>\n",
              "      <td>0.750000</td>\n",
              "      <td>0.200000</td>\n",
              "      <td>0.466667</td>\n",
              "      <td>0.333333</td>\n",
              "      <td>0.466667</td>\n",
              "      <td>0.580482</td>\n",
              "      <td>0.466667</td>\n",
              "      <td>0.750000</td>\n",
              "      <td>0.428571</td>\n",
              "    </tr>\n",
              "    <tr>\n",
              "      <th>15996</th>\n",
              "      <td>0.792481</td>\n",
              "      <td>0.933333</td>\n",
              "      <td>0.466667</td>\n",
              "      <td>0.533333</td>\n",
              "      <td>0.580482</td>\n",
              "      <td>0.533333</td>\n",
              "      <td>0.266667</td>\n",
              "      <td>0.646241</td>\n",
              "      <td>0.200000</td>\n",
              "      <td>0.533333</td>\n",
              "      <td>0.266667</td>\n",
              "      <td>0.333333</td>\n",
              "      <td>0.580482</td>\n",
              "      <td>0.466667</td>\n",
              "      <td>0.646241</td>\n",
              "      <td>0.500000</td>\n",
              "    </tr>\n",
              "    <tr>\n",
              "      <th>15997</th>\n",
              "      <td>0.580482</td>\n",
              "      <td>0.466667</td>\n",
              "      <td>0.333333</td>\n",
              "      <td>0.333333</td>\n",
              "      <td>0.500000</td>\n",
              "      <td>0.466667</td>\n",
              "      <td>0.466667</td>\n",
              "      <td>0.396241</td>\n",
              "      <td>0.600000</td>\n",
              "      <td>0.733333</td>\n",
              "      <td>0.400000</td>\n",
              "      <td>0.600000</td>\n",
              "      <td>0.396241</td>\n",
              "      <td>0.533333</td>\n",
              "      <td>0.646241</td>\n",
              "      <td>0.500000</td>\n",
              "    </tr>\n",
              "    <tr>\n",
              "      <th>15998</th>\n",
              "      <td>0.396241</td>\n",
              "      <td>0.066667</td>\n",
              "      <td>0.200000</td>\n",
              "      <td>0.133333</td>\n",
              "      <td>0.250000</td>\n",
              "      <td>0.400000</td>\n",
              "      <td>0.533333</td>\n",
              "      <td>0.750000</td>\n",
              "      <td>0.466667</td>\n",
              "      <td>0.533333</td>\n",
              "      <td>0.533333</td>\n",
              "      <td>0.866667</td>\n",
              "      <td>0.250000</td>\n",
              "      <td>0.600000</td>\n",
              "      <td>0.580482</td>\n",
              "      <td>0.642857</td>\n",
              "    </tr>\n",
              "  </tbody>\n",
              "</table>\n",
              "<p>15999 rows × 16 columns</p>\n",
              "</div>\n",
              "      <button class=\"colab-df-convert\" onclick=\"convertToInteractive('df-fc851bb5-6585-4f5e-b084-bdcd9a6c2f4f')\"\n",
              "              title=\"Convert this dataframe to an interactive table.\"\n",
              "              style=\"display:none;\">\n",
              "        \n",
              "  <svg xmlns=\"http://www.w3.org/2000/svg\" height=\"24px\"viewBox=\"0 0 24 24\"\n",
              "       width=\"24px\">\n",
              "    <path d=\"M0 0h24v24H0V0z\" fill=\"none\"/>\n",
              "    <path d=\"M18.56 5.44l.94 2.06.94-2.06 2.06-.94-2.06-.94-.94-2.06-.94 2.06-2.06.94zm-11 1L8.5 8.5l.94-2.06 2.06-.94-2.06-.94L8.5 2.5l-.94 2.06-2.06.94zm10 10l.94 2.06.94-2.06 2.06-.94-2.06-.94-.94-2.06-.94 2.06-2.06.94z\"/><path d=\"M17.41 7.96l-1.37-1.37c-.4-.4-.92-.59-1.43-.59-.52 0-1.04.2-1.43.59L10.3 9.45l-7.72 7.72c-.78.78-.78 2.05 0 2.83L4 21.41c.39.39.9.59 1.41.59.51 0 1.02-.2 1.41-.59l7.78-7.78 2.81-2.81c.8-.78.8-2.07 0-2.86zM5.41 20L4 18.59l7.72-7.72 1.47 1.35L5.41 20z\"/>\n",
              "  </svg>\n",
              "      </button>\n",
              "      \n",
              "  <style>\n",
              "    .colab-df-container {\n",
              "      display:flex;\n",
              "      flex-wrap:wrap;\n",
              "      gap: 12px;\n",
              "    }\n",
              "\n",
              "    .colab-df-convert {\n",
              "      background-color: #E8F0FE;\n",
              "      border: none;\n",
              "      border-radius: 50%;\n",
              "      cursor: pointer;\n",
              "      display: none;\n",
              "      fill: #1967D2;\n",
              "      height: 32px;\n",
              "      padding: 0 0 0 0;\n",
              "      width: 32px;\n",
              "    }\n",
              "\n",
              "    .colab-df-convert:hover {\n",
              "      background-color: #E2EBFA;\n",
              "      box-shadow: 0px 1px 2px rgba(60, 64, 67, 0.3), 0px 1px 3px 1px rgba(60, 64, 67, 0.15);\n",
              "      fill: #174EA6;\n",
              "    }\n",
              "\n",
              "    [theme=dark] .colab-df-convert {\n",
              "      background-color: #3B4455;\n",
              "      fill: #D2E3FC;\n",
              "    }\n",
              "\n",
              "    [theme=dark] .colab-df-convert:hover {\n",
              "      background-color: #434B5C;\n",
              "      box-shadow: 0px 1px 3px 1px rgba(0, 0, 0, 0.15);\n",
              "      filter: drop-shadow(0px 1px 2px rgba(0, 0, 0, 0.3));\n",
              "      fill: #FFFFFF;\n",
              "    }\n",
              "  </style>\n",
              "\n",
              "      <script>\n",
              "        const buttonEl =\n",
              "          document.querySelector('#df-fc851bb5-6585-4f5e-b084-bdcd9a6c2f4f button.colab-df-convert');\n",
              "        buttonEl.style.display =\n",
              "          google.colab.kernel.accessAllowed ? 'block' : 'none';\n",
              "\n",
              "        async function convertToInteractive(key) {\n",
              "          const element = document.querySelector('#df-fc851bb5-6585-4f5e-b084-bdcd9a6c2f4f');\n",
              "          const dataTable =\n",
              "            await google.colab.kernel.invokeFunction('convertToInteractive',\n",
              "                                                     [key], {});\n",
              "          if (!dataTable) return;\n",
              "\n",
              "          const docLinkHtml = 'Like what you see? Visit the ' +\n",
              "            '<a target=\"_blank\" href=https://colab.research.google.com/notebooks/data_table.ipynb>data table notebook</a>'\n",
              "            + ' to learn more about interactive tables.';\n",
              "          element.innerHTML = '';\n",
              "          dataTable['output_type'] = 'display_data';\n",
              "          await google.colab.output.renderOutput(dataTable, element);\n",
              "          const docLink = document.createElement('div');\n",
              "          docLink.innerHTML = docLinkHtml;\n",
              "          element.appendChild(docLink);\n",
              "        }\n",
              "      </script>\n",
              "    </div>\n",
              "  </div>\n",
              "  "
            ]
          },
          "metadata": {},
          "execution_count": 92
        }
      ]
    },
    {
      "cell_type": "code",
      "source": [
        "data['T']= data['T'].str.replace('A', '0')     #Replacing '+' with 0\n",
        "data['T']= data['T'].str.replace('B', '1') \n",
        "data['T']= data['T'].str.replace('C', '2')     #Replacing '+' with 0\n",
        "data['T']= data['T'].str.replace('D', '3') \n",
        "data['T']= data['T'].str.replace('E', '4')     #Replacing '+' with 0\n",
        "data['T']= data['T'].str.replace('F', '5') \n",
        "data['T']= data['T'].str.replace('G', '6')     #Replacing '+' with 0\n",
        "data['T']= data['T'].str.replace('H', '7') \n",
        "data['T']= data['T'].str.replace('I', '8')     #Replacing '+' with 0\n",
        "data['T']= data['T'].str.replace('J', '9') \n",
        "data['T']= data['T'].str.replace('K','10')     #Replacing '+' with 0\n",
        "data['T']= data['T'].str.replace('L','11') \n",
        "data['T']= data['T'].str.replace('M','12')     #Replacing '+' with 0\n",
        "data['T']= data['T'].str.replace('N','13') \n",
        "data['T']= data['T'].str.replace('O','14')     #Replacing '+' with 0\n",
        "data['T']= data['T'].str.replace('P','15') \n",
        "data['T']= data['T'].str.replace('Q','16')     #Replacing '+' with 0\n",
        "data['T']= data['T'].str.replace('R','17') \n",
        "data['T']= data['T'].str.replace('S','18')     #Replacing '+' with 0\n",
        "data['T']= data['T'].str.replace('T','19') \n",
        "data['T']= data['T'].str.replace('U','20')     #Replacing '+' with 0\n",
        "data['T']= data['T'].str.replace('V','21') \n",
        "data['T']= data['T'].str.replace('W','22')     #Replacing '+' with 0\n",
        "data['T']= data['T'].str.replace('X','23') \n",
        "data['T']= data['T'].str.replace('Y','24')     #Replacing '+' with 0\n",
        "data['T']= data['T'].str.replace('Z','25') \n",
        "\n"
      ],
      "metadata": {
        "id": "TKG_8Z6viK1n"
      },
      "execution_count": 93,
      "outputs": []
    },
    {
      "cell_type": "code",
      "source": [
        "data['T']=data['T'].astype('int')"
      ],
      "metadata": {
        "id": "8BF3Pyg5HjSH"
      },
      "execution_count": 94,
      "outputs": []
    },
    {
      "cell_type": "code",
      "source": [
        "data.info()\n",
        "y = data['T']\n",
        "print(train_data.shape)\n",
        "y.shape"
      ],
      "metadata": {
        "colab": {
          "base_uri": "https://localhost:8080/"
        },
        "id": "U-saug_4_KDy",
        "outputId": "de56243d-409e-46aa-f8ba-5af7993c9439"
      },
      "execution_count": 95,
      "outputs": [
        {
          "output_type": "stream",
          "name": "stdout",
          "text": [
            "<class 'pandas.core.frame.DataFrame'>\n",
            "RangeIndex: 15999 entries, 0 to 15998\n",
            "Data columns (total 17 columns):\n",
            " #   Column  Non-Null Count  Dtype\n",
            "---  ------  --------------  -----\n",
            " 0   T       15999 non-null  int64\n",
            " 1   2       15999 non-null  int64\n",
            " 2   8       15999 non-null  int64\n",
            " 3   3       15999 non-null  int64\n",
            " 4   5       15999 non-null  int64\n",
            " 5   1       15999 non-null  int64\n",
            " 6   8.1     15999 non-null  int64\n",
            " 7   13      15999 non-null  int64\n",
            " 8   0       15999 non-null  int64\n",
            " 9   6       15999 non-null  int64\n",
            " 10  6.1     15999 non-null  int64\n",
            " 11  10      15999 non-null  int64\n",
            " 12  8.2     15999 non-null  int64\n",
            " 13  0.1     15999 non-null  int64\n",
            " 14  8.3     15999 non-null  int64\n",
            " 15  0.2     15999 non-null  int64\n",
            " 16  8.4     15999 non-null  int64\n",
            "dtypes: int64(17)\n",
            "memory usage: 2.1 MB\n",
            "(15999, 16)\n"
          ]
        },
        {
          "output_type": "execute_result",
          "data": {
            "text/plain": [
              "(15999,)"
            ]
          },
          "metadata": {},
          "execution_count": 95
        }
      ]
    },
    {
      "cell_type": "code",
      "source": [
        "from sklearn.model_selection import train_test_split\n",
        "x_train,x_test,y_train,y_test=train_test_split(train_data,y,test_size=0.2,random_state=0)   \n",
        "\n",
        "from sklearn.preprocessing import StandardScaler\n",
        "sc_x= StandardScaler()\n",
        "x_train=sc_x.fit_transform(x_train)\n",
        "x_test=sc_x.transform(x_test)\n"
      ],
      "metadata": {
        "id": "wcU2U8ChGPZz"
      },
      "execution_count": 96,
      "outputs": []
    },
    {
      "cell_type": "code",
      "source": [
        "from sklearn.neural_network import MLPClassifier  \n",
        "nnmodel = MLPClassifier(hidden_layer_sizes=(100,30),random_state=0)\n",
        "nnmodel.fit(x_train,y_train)"
      ],
      "metadata": {
        "colab": {
          "base_uri": "https://localhost:8080/"
        },
        "id": "tNPlOClpH5tB",
        "outputId": "17f289ce-2278-4130-a7d9-3d33a434baf3"
      },
      "execution_count": 97,
      "outputs": [
        {
          "output_type": "stream",
          "name": "stderr",
          "text": [
            "/usr/local/lib/python3.8/dist-packages/sklearn/neural_network/_multilayer_perceptron.py:692: ConvergenceWarning: Stochastic Optimizer: Maximum iterations (200) reached and the optimization hasn't converged yet.\n",
            "  warnings.warn(\n"
          ]
        },
        {
          "output_type": "execute_result",
          "data": {
            "text/plain": [
              "MLPClassifier(hidden_layer_sizes=(100, 30), random_state=0)"
            ]
          },
          "metadata": {},
          "execution_count": 97
        }
      ]
    },
    {
      "cell_type": "code",
      "source": [
        "nnpredicted_class=nnmodel.predict(x_test)\n",
        "\n",
        "from sklearn.metrics import accuracy_score \n",
        "\n",
        "accuracy_score(y_test,nnpredicted_class)"
      ],
      "metadata": {
        "colab": {
          "base_uri": "https://localhost:8080/"
        },
        "id": "ea92VYrWINOH",
        "outputId": "c2b67eb9-5ab3-4e1c-8dfd-5c11f1687209"
      },
      "execution_count": 46,
      "outputs": [
        {
          "output_type": "execute_result",
          "data": {
            "text/plain": [
              "0.9596875"
            ]
          },
          "metadata": {},
          "execution_count": 46
        }
      ]
    },
    {
      "cell_type": "code",
      "source": [
        "from sklearn.model_selection import train_test_split, cross_val_score, GridSearchCV, learning_curve, KFold\n",
        "\n",
        "param_grid = {\n",
        "    'hidden_layer_sizes': [(150,100), (120,80), (100,50)],\n",
        "    #'max_iter': [50, 100, 150],\n",
        "    #'activation': ['tanh', 'relu'],\n",
        "    #'solver': ['sgd', 'adam'],\n",
        "    #'alpha': [0.0001, 0.05],\n",
        "    #'learning_rate': ['constant','adaptive'],\n",
        "}\n",
        "grid = GridSearchCV(nnmodel, param_grid, n_jobs= -1, cv=5)\n",
        "grid.fit(x_train, y_train)\n",
        "\n",
        "print(grid.best_params_) \n"
      ],
      "metadata": {
        "colab": {
          "base_uri": "https://localhost:8080/"
        },
        "id": "Q86k1k3SZo0n",
        "outputId": "47c99952-6afb-4ddf-940e-0618261f5afd"
      },
      "execution_count": 44,
      "outputs": [
        {
          "output_type": "stream",
          "name": "stdout",
          "text": [
            "{'hidden_layer_sizes': (150, 100)}\n"
          ]
        }
      ]
    },
    {
      "cell_type": "code",
      "source": [
        "grid_predictions = grid.predict(x_test) \n",
        "\n",
        "print('Accuracy: {:.2f}'.format(accuracy_score(y_test, grid_predictions)))"
      ],
      "metadata": {
        "colab": {
          "base_uri": "https://localhost:8080/"
        },
        "id": "p2z8apHxaQU9",
        "outputId": "65e3d14e-c1cf-41cd-b20d-41145b2a1943"
      },
      "execution_count": 48,
      "outputs": [
        {
          "output_type": "stream",
          "name": "stdout",
          "text": [
            "Accuracy: 0.96\n"
          ]
        }
      ]
    },
    {
      "cell_type": "code",
      "source": [
        "from keras.models import Sequential\n",
        "from keras.layers import Dense\n",
        "import pandas as pd\n",
        "import scipy as sc\n",
        "import random\n",
        "import time\n",
        "from sklearn.utils import shuffle\n",
        "\n",
        "from sklearn.preprocessing import LabelEncoder\n",
        "from sklearn.model_selection import train_test_split\n",
        "from keras.utils.np_utils import to_categorical"
      ],
      "metadata": {
        "id": "rkL3sfFqUAMH"
      },
      "execution_count": 60,
      "outputs": []
    },
    {
      "cell_type": "code",
      "source": [
        "l_encode = LabelEncoder()\n",
        "l_encode.fit(y_train)\n",
        "Y = l_encode.transform(y_train)\n",
        "Y = to_categorical(y_train)\n",
        "Y.shape\n",
        "l_encode = LabelEncoder()\n",
        "l_encode.fit(y_test)\n",
        "T = l_encode.transform(y_test)\n",
        "T = to_categorical(y_test)\n",
        "T.shape"
      ],
      "metadata": {
        "colab": {
          "base_uri": "https://localhost:8080/"
        },
        "id": "SVuhWNrFZkk6",
        "outputId": "0c3ad83f-2608-4da7-e57c-9e85837b2db6"
      },
      "execution_count": 74,
      "outputs": [
        {
          "output_type": "execute_result",
          "data": {
            "text/plain": [
              "(3200, 26)"
            ]
          },
          "metadata": {},
          "execution_count": 74
        }
      ]
    },
    {
      "cell_type": "code",
      "source": [
        "model = Sequential()\n",
        "model.add(Dense(150, input_dim = 16, activation = 'relu'))\n",
        "model.add(Dense(100, activation = 'relu'))\n",
        "#model.add(Dense(100, activation = 'relu'))\n",
        "#model.add(Dense(100, activation = 'relu'))\n",
        "model.add(Dense(26, activation = 'softmax'))\n",
        "\n",
        "model.compile(loss = 'categorical_crossentropy', optimizer = 'adam', metrics = ['accuracy'])\n",
        "model.fit(x_train,Y, epochs = 20, batch_size = 5)\n",
        "scores = model.evaluate(x_test, T)\n",
        "\n",
        "for i, m in enumerate(model.metrics_names):\n",
        "    print(\"\\n%s: %.3f\"% (m, scores[i]))\n"
      ],
      "metadata": {
        "colab": {
          "base_uri": "https://localhost:8080/"
        },
        "id": "vvW97M3zUD_F",
        "outputId": "f7842a6f-08f1-464f-8c35-d44b0fd3a01b"
      },
      "execution_count": 73,
      "outputs": [
        {
          "output_type": "stream",
          "name": "stdout",
          "text": [
            "Epoch 1/20\n",
            "2560/2560 [==============================] - 39s 2ms/step - loss: 0.9704 - accuracy: 0.7175\n",
            "Epoch 2/20\n",
            "2560/2560 [==============================] - 6s 2ms/step - loss: 0.4654 - accuracy: 0.8576\n",
            "Epoch 3/20\n",
            "2560/2560 [==============================] - 6s 2ms/step - loss: 0.3309 - accuracy: 0.8969\n",
            "Epoch 4/20\n",
            "2560/2560 [==============================] - 6s 2ms/step - loss: 0.2557 - accuracy: 0.9187\n",
            "Epoch 5/20\n",
            "2560/2560 [==============================] - 6s 2ms/step - loss: 0.2086 - accuracy: 0.9327\n",
            "Epoch 6/20\n",
            "2560/2560 [==============================] - 6s 2ms/step - loss: 0.1772 - accuracy: 0.9412\n",
            "Epoch 7/20\n",
            "2560/2560 [==============================] - 6s 2ms/step - loss: 0.1576 - accuracy: 0.9494\n",
            "Epoch 8/20\n",
            "2560/2560 [==============================] - 6s 2ms/step - loss: 0.1333 - accuracy: 0.9556\n",
            "Epoch 9/20\n",
            "2560/2560 [==============================] - 6s 2ms/step - loss: 0.1198 - accuracy: 0.9591\n",
            "Epoch 10/20\n",
            "2560/2560 [==============================] - 6s 2ms/step - loss: 0.1082 - accuracy: 0.9626\n",
            "Epoch 11/20\n",
            "2560/2560 [==============================] - 6s 2ms/step - loss: 0.0947 - accuracy: 0.9676\n",
            "Epoch 12/20\n",
            "2560/2560 [==============================] - 7s 3ms/step - loss: 0.0867 - accuracy: 0.9705\n",
            "Epoch 13/20\n",
            "2560/2560 [==============================] - 6s 2ms/step - loss: 0.0824 - accuracy: 0.9723\n",
            "Epoch 14/20\n",
            "2560/2560 [==============================] - 6s 2ms/step - loss: 0.0753 - accuracy: 0.9744\n",
            "Epoch 15/20\n",
            "2560/2560 [==============================] - 6s 2ms/step - loss: 0.0696 - accuracy: 0.9774\n",
            "Epoch 16/20\n",
            "2560/2560 [==============================] - 6s 2ms/step - loss: 0.0648 - accuracy: 0.9777\n",
            "Epoch 17/20\n",
            "2560/2560 [==============================] - 6s 2ms/step - loss: 0.0565 - accuracy: 0.9820\n",
            "Epoch 18/20\n",
            "2560/2560 [==============================] - 6s 2ms/step - loss: 0.0599 - accuracy: 0.9804\n",
            "Epoch 19/20\n",
            "2560/2560 [==============================] - 6s 2ms/step - loss: 0.0507 - accuracy: 0.9840\n",
            "Epoch 20/20\n",
            "2560/2560 [==============================] - 6s 2ms/step - loss: 0.0560 - accuracy: 0.9835\n",
            "100/100 [==============================] - 0s 1ms/step - loss: 0.1445 - accuracy: 0.9553\n",
            "\n",
            "loss: 0.144\n",
            "\n",
            "accuracy: 0.955\n"
          ]
        }
      ]
    },
    {
      "cell_type": "code",
      "source": [
        "#from sklearn.linear_model import LogisticRegression \n",
        "from sklearn.ensemble import RandomForestClassifier\n",
        "from sklearn.metrics import accuracy_score \n",
        "\n",
        "#model = LogisticRegression()\n",
        "model = RandomForestClassifier(n_estimators=100)\n",
        "\n",
        "model.fit(train_data, y)\n"
      ],
      "metadata": {
        "colab": {
          "base_uri": "https://localhost:8080/"
        },
        "id": "_On1lZD3IZfT",
        "outputId": "617cea5f-8c1f-4df1-e604-c2e36602711a"
      },
      "execution_count": 49,
      "outputs": [
        {
          "output_type": "execute_result",
          "data": {
            "text/plain": [
              "RandomForestClassifier()"
            ]
          },
          "metadata": {},
          "execution_count": 49
        }
      ]
    },
    {
      "cell_type": "code",
      "source": [
        "from sklearn.model_selection import train_test_split, cross_val_score, GridSearchCV, learning_curve, KFold\n",
        "\n",
        "parameters = [{'criterion': ['entropy'],'max_depth':[5,10,20,50,100]}] \n",
        "best_fit = GridSearchCV(estimator = model,\n",
        "                           param_grid = parameters,\n",
        "                           scoring = 'accuracy',\n",
        "                           cv = 5,\n",
        "                           )\n",
        "best_fit = best_fit.fit(x_train, y_train)\n",
        "best_accuracy = best_fit.best_score_\n",
        "best_parameters = best_fit.best_params_\n",
        "\n",
        "print('Best accuracy: ',best_accuracy,end='\\n')\n",
        "print('Best parameters: ',best_parameters,end='\\n')"
      ],
      "metadata": {
        "colab": {
          "base_uri": "https://localhost:8080/"
        },
        "id": "Bfuu5iG7IrSL",
        "outputId": "95751c29-880d-4043-8173-78f575743e92"
      },
      "execution_count": 52,
      "outputs": [
        {
          "output_type": "stream",
          "name": "stdout",
          "text": [
            "Best accuracy:  0.9516367782825321\n",
            "Best parameters:  {'criterion': 'entropy', 'max_depth': 50}\n"
          ]
        }
      ]
    },
    {
      "cell_type": "code",
      "source": [],
      "metadata": {
        "id": "G_LQHEA2JTCF"
      },
      "execution_count": null,
      "outputs": []
    }
  ]
}